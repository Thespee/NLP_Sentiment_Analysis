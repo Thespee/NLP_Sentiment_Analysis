{
 "cells": [
  {
   "cell_type": "code",
   "execution_count": null,
   "metadata": {},
   "outputs": [],
   "source": [
    "%reload_ext autoreload\n",
    "%autoreload 2\n",
    "%matplotlib inline\n",
    "from fastai import *\n",
    "from fastai.text import *\n",
    "from fastai.text.all import *\n",
    "from random import sample \n",
    "#from fastai.utils.mem import GPUMemTrace #call with mtrace\n",
    "import sklearn.feature_extraction.text as sklearn_text\n",
    "import pickle\n",
    "import pandas as pd\n",
    "\n"
   ]
  },
  {
   "cell_type": "code",
   "execution_count": null,
   "metadata": {},
   "outputs": [],
   "source": [
    "path = 'data/'\n",
    "data_raw = pd.read_csv(path+'train.csv', header=None)\n",
    "data_raw.columns = ['sentiment','review_title','review_text']\n",
    "#data_raw.head()"
   ]
  },
  {
   "cell_type": "code",
   "execution_count": null,
   "metadata": {},
   "outputs": [],
   "source": [
    "#creating sample training set as I am limited by computing power\n",
    "data_train = data_raw.sample(n = 10000)\n",
    "#data_train.head()"
   ]
  },
  {
   "cell_type": "code",
   "execution_count": 74,
   "metadata": {},
   "outputs": [],
   "source": [
    "#tokenizeing the training data\n",
    "tokenizer = SpacyTokenizer()\n",
    "toke_train = tokenize_df(data_train,text_cols = [1,2], n_workers = 0, tok = tokenizer)"
   ]
  },
  {
   "cell_type": "code",
   "execution_count": 75,
   "metadata": {},
   "outputs": [
    {
     "name": "stderr",
     "output_type": "stream",
     "text": [
      "<ipython-input-75-eef2c667c018>:3: UserWarning: Pandas doesn't allow columns to be created via a new attribute name - see https://pandas.pydata.org/pandas-docs/stable/indexing.html#attribute-access\n",
      "  data_train.vocab = toke_train[1]\n"
     ]
    },
    {
     "data": {
      "text/html": [
       "<div>\n",
       "<style scoped>\n",
       "    .dataframe tbody tr th:only-of-type {\n",
       "        vertical-align: middle;\n",
       "    }\n",
       "\n",
       "    .dataframe tbody tr th {\n",
       "        vertical-align: top;\n",
       "    }\n",
       "\n",
       "    .dataframe thead th {\n",
       "        text-align: right;\n",
       "    }\n",
       "</style>\n",
       "<table border=\"1\" class=\"dataframe\">\n",
       "  <thead>\n",
       "    <tr style=\"text-align: right;\">\n",
       "      <th></th>\n",
       "      <th>sentiment</th>\n",
       "      <th>review_title</th>\n",
       "      <th>review_text</th>\n",
       "      <th>tokenized</th>\n",
       "    </tr>\n",
       "  </thead>\n",
       "  <tbody>\n",
       "    <tr>\n",
       "      <th>3210855</th>\n",
       "      <td>2</td>\n",
       "      <td>God has set me free from tons of baggage!</td>\n",
       "      <td>This book has helped me develop the close relationship I want with God. I've always struggled with overeating and knew it was wrong but never could be freed. God has used this book to show me the way to freedom. Not only have I been delivered by more than 50 pounds. I've been delivered from many other things as well. God has renewed my spirit,my marriage,friendships. He is making me into the women he wants me to be. Not by me losing weight but by me being obiedent to him.This book is well worth the money! I thank God for giving Gwen the wisdom and knowlege to write this book.</td>\n",
       "      <td>[xxbos, xxfld, 1, xxmaj, god, has, set, me, free, from, tons, of, baggage, !, xxfld, 2, xxmaj, this, book, has, helped, me, develop, the, close, relationship, i, want, with, xxmaj, god, ., xxmaj, i, 've, always, struggled, with, overeating, and, knew, it, was, wrong, but, never, could, be, freed, ., xxmaj, god, has, used, this, book, to, show, me, the, way, to, freedom, ., xxmaj, not, only, have, i, been, delivered, by, more, than, 50, pounds, ., xxmaj, i, 've, been, delivered, from, many, other, things, as, well, ., xxmaj, god, has, renewed, my, spirit, ,, my, marriage, ,, friendships, ...]</td>\n",
       "    </tr>\n",
       "    <tr>\n",
       "      <th>1388566</th>\n",
       "      <td>1</td>\n",
       "      <td>Not compatible with many systems</td>\n",
       "      <td>Warning: this card does NOT support Media Center in recent Dell Dimension PCs. Sonic CinePlayer will not function after installing the ATI drivers. The card does not work with Roxio Creator MyDVD. Neither ATI tech support nor Dell support can offer fixes for these incompatibilities. If you are lucky enough to have a compatible system, this card may produce great video. But beware, the driver software may not work in your system.</td>\n",
       "      <td>[xxbos, xxfld, 1, xxmaj, not, compatible, with, many, systems, xxfld, 2, xxmaj, warning, :, this, card, does, xxup, not, support, xxmaj, media, xxmaj, center, in, recent, xxmaj, dell, xxmaj, dimension, pcs, ., xxmaj, sonic, cineplayer, will, not, function, after, installing, the, xxup, ati, drivers, ., xxmaj, the, card, does, not, work, with, xxmaj, roxio, xxmaj, creator, mydvd, ., xxmaj, neither, xxup, ati, tech, support, nor, xxmaj, dell, support, can, offer, fixes, for, these, incompatibilities, ., xxmaj, if, you, are, lucky, enough, to, have, a, compatible, system, ,, this, card, may, ...</td>\n",
       "    </tr>\n",
       "    <tr>\n",
       "      <th>3385957</th>\n",
       "      <td>2</td>\n",
       "      <td>the author....</td>\n",
       "      <td>I read the book after getting to know the doctor - and I must say that the book is as crazy as the author himself; but somehow really great; I loved it!</td>\n",
       "      <td>[xxbos, xxfld, 1, the, author, …, ., xxfld, 2, i, read, the, book, after, getting, to, know, the, doctor, -, and, i, must, say, that, the, book, is, as, crazy, as, the, author, himself, ;, but, somehow, really, great, ;, i, loved, it, !]</td>\n",
       "    </tr>\n",
       "    <tr>\n",
       "      <th>1407495</th>\n",
       "      <td>2</td>\n",
       "      <td>A great story</td>\n",
       "      <td>Plot wise, this is perhaps the strongest of the BOTI series. The villain is almost likeable, yet thoroughly hateable, and the end fight is imaginative. Kudos to Samura for this one.</td>\n",
       "      <td>[xxbos, xxfld, 1, a, great, story, xxfld, 2, xxmaj, plot, wise, ,, this, is, perhaps, the, strongest, of, the, xxup, boti, series, ., xxmaj, the, villain, is, almost, likeable, ,, yet, thoroughly, hateable, ,, and, the, end, fight, is, imaginative, ., xxmaj, kudos, to, xxmaj, samura, for, this, one, .]</td>\n",
       "    </tr>\n",
       "    <tr>\n",
       "      <th>740633</th>\n",
       "      <td>1</td>\n",
       "      <td>FLAT</td>\n",
       "      <td>This movie is flat - there is nothing to it...boring and barely entertaining. Also, I find I am liking leonardo less and less w each movie. The characters, the story-line, and the production are all lifeless, and, if I didn't know better, I would think this film made by a rank amature without a chance in the movie business. Hanks tries to do his best, but even he cannot enoble this dog of a film. I can't help but wonder how many people TRULY like it, and aren't just along-for-the-ride because of the big names involved. After all, Spielberg, and certainly Hanks, just CAN'T make less than a ...</td>\n",
       "      <td>[xxbos, xxfld, 1, xxup, flat, xxfld, 2, xxmaj, this, movie, is, flat, -, there, is, nothing, to, it, …, boring, and, barely, entertaining, ., xxmaj, also, ,, i, find, i, am, liking, leonardo, less, and, less, w, each, movie, ., xxmaj, the, characters, ,, the, story, -, line, ,, and, the, production, are, all, lifeless, ,, and, ,, if, i, did, n't, know, better, ,, i, would, think, this, film, made, by, a, rank, amature, without, a, chance, in, the, movie, business, ., xxmaj, hanks, tries, to, do, his, best, ,, but, even, he, can, not, enoble, this, dog, of, ...]</td>\n",
       "    </tr>\n",
       "  </tbody>\n",
       "</table>\n",
       "</div>"
      ],
      "text/plain": [
       "         sentiment                               review_title  \\\n",
       "3210855          2  God has set me free from tons of baggage!   \n",
       "1388566          1           Not compatible with many systems   \n",
       "3385957          2                             the author....   \n",
       "1407495          2                              A great story   \n",
       "740633           1                                       FLAT   \n",
       "\n",
       "                                                                                                                                                                                                                                                                                                                                                                                                                                                                                                                                                                                                                     review_text  \\\n",
       "3210855                   This book has helped me develop the close relationship I want with God. I've always struggled with overeating and knew it was wrong but never could be freed. God has used this book to show me the way to freedom. Not only have I been delivered by more than 50 pounds. I've been delivered from many other things as well. God has renewed my spirit,my marriage,friendships. He is making me into the women he wants me to be. Not by me losing weight but by me being obiedent to him.This book is well worth the money! I thank God for giving Gwen the wisdom and knowlege to write this book.   \n",
       "1388566                                                                                                                                                                         Warning: this card does NOT support Media Center in recent Dell Dimension PCs. Sonic CinePlayer will not function after installing the ATI drivers. The card does not work with Roxio Creator MyDVD. Neither ATI tech support nor Dell support can offer fixes for these incompatibilities. If you are lucky enough to have a compatible system, this card may produce great video. But beware, the driver software may not work in your system.   \n",
       "3385957                                                                                                                                                                                                                                                                                                                                                                                                                                                                 I read the book after getting to know the doctor - and I must say that the book is as crazy as the author himself; but somehow really great; I loved it!   \n",
       "1407495                                                                                                                                                                                                                                                                                                                                                                                                                                    Plot wise, this is perhaps the strongest of the BOTI series. The villain is almost likeable, yet thoroughly hateable, and the end fight is imaginative. Kudos to Samura for this one.   \n",
       "740633   This movie is flat - there is nothing to it...boring and barely entertaining. Also, I find I am liking leonardo less and less w each movie. The characters, the story-line, and the production are all lifeless, and, if I didn't know better, I would think this film made by a rank amature without a chance in the movie business. Hanks tries to do his best, but even he cannot enoble this dog of a film. I can't help but wonder how many people TRULY like it, and aren't just along-for-the-ride because of the big names involved. After all, Spielberg, and certainly Hanks, just CAN'T make less than a ...   \n",
       "\n",
       "                                                                                                                                                                                                                                                                                                                                                                                                                                                                                                                                                                                                                       tokenized  \n",
       "3210855   [xxbos, xxfld, 1, xxmaj, god, has, set, me, free, from, tons, of, baggage, !, xxfld, 2, xxmaj, this, book, has, helped, me, develop, the, close, relationship, i, want, with, xxmaj, god, ., xxmaj, i, 've, always, struggled, with, overeating, and, knew, it, was, wrong, but, never, could, be, freed, ., xxmaj, god, has, used, this, book, to, show, me, the, way, to, freedom, ., xxmaj, not, only, have, i, been, delivered, by, more, than, 50, pounds, ., xxmaj, i, 've, been, delivered, from, many, other, things, as, well, ., xxmaj, god, has, renewed, my, spirit, ,, my, marriage, ,, friendships, ...]  \n",
       "1388566  [xxbos, xxfld, 1, xxmaj, not, compatible, with, many, systems, xxfld, 2, xxmaj, warning, :, this, card, does, xxup, not, support, xxmaj, media, xxmaj, center, in, recent, xxmaj, dell, xxmaj, dimension, pcs, ., xxmaj, sonic, cineplayer, will, not, function, after, installing, the, xxup, ati, drivers, ., xxmaj, the, card, does, not, work, with, xxmaj, roxio, xxmaj, creator, mydvd, ., xxmaj, neither, xxup, ati, tech, support, nor, xxmaj, dell, support, can, offer, fixes, for, these, incompatibilities, ., xxmaj, if, you, are, lucky, enough, to, have, a, compatible, system, ,, this, card, may, ...  \n",
       "3385957                                                                                                                                                                                                                                                                                                                                                                            [xxbos, xxfld, 1, the, author, …, ., xxfld, 2, i, read, the, book, after, getting, to, know, the, doctor, -, and, i, must, say, that, the, book, is, as, crazy, as, the, author, himself, ;, but, somehow, really, great, ;, i, loved, it, !]  \n",
       "1407495                                                                                                                                                                                                                                                                                                          [xxbos, xxfld, 1, a, great, story, xxfld, 2, xxmaj, plot, wise, ,, this, is, perhaps, the, strongest, of, the, xxup, boti, series, ., xxmaj, the, villain, is, almost, likeable, ,, yet, thoroughly, hateable, ,, and, the, end, fight, is, imaginative, ., xxmaj, kudos, to, xxmaj, samura, for, this, one, .]  \n",
       "740633                                   [xxbos, xxfld, 1, xxup, flat, xxfld, 2, xxmaj, this, movie, is, flat, -, there, is, nothing, to, it, …, boring, and, barely, entertaining, ., xxmaj, also, ,, i, find, i, am, liking, leonardo, less, and, less, w, each, movie, ., xxmaj, the, characters, ,, the, story, -, line, ,, and, the, production, are, all, lifeless, ,, and, ,, if, i, did, n't, know, better, ,, i, would, think, this, film, made, by, a, rank, amature, without, a, chance, in, the, movie, business, ., xxmaj, hanks, tries, to, do, his, best, ,, but, even, he, can, not, enoble, this, dog, of, ...]  "
      ]
     },
     "execution_count": 75,
     "metadata": {},
     "output_type": "execute_result"
    }
   ],
   "source": [
    "#Formatting training dataset \n",
    "data_train['tokenized'] = toke_train[0]['text']\n",
    "data_train.vocab = toke_train[1]\n",
    "data_train.head()"
   ]
  },
  {
   "cell_type": "code",
   "execution_count": null,
   "metadata": {},
   "outputs": [],
   "source": [
    "#Creating the model\n",
    "dls = TextDataLoaders.from_df(data_train, path=path, text_col='tokenized', label_col='sentiment')\n",
    "learn = text_classifier_learner(dls, AWD_LSTM, drop_mult=0.5, metrics=accuracy)\n",
    "learn.model = learn.model.cpu()"
   ]
  },
  {
   "cell_type": "code",
   "execution_count": null,
   "metadata": {},
   "outputs": [],
   "source": [
    "#training, again just proving I can do it but this takes years on my computer\n",
    "learn.fit(1)"
   ]
  }
 ],
 "metadata": {
  "kernelspec": {
   "display_name": "Python 3.8.3 ('base')",
   "language": "python",
   "name": "python3"
  },
  "language_info": {
   "codemirror_mode": {
    "name": "ipython",
    "version": 3
   },
   "file_extension": ".py",
   "mimetype": "text/x-python",
   "name": "python",
   "nbconvert_exporter": "python",
   "pygments_lexer": "ipython3",
   "version": "3.8.3"
  },
  "orig_nbformat": 4,
  "vscode": {
   "interpreter": {
    "hash": "48c0e260c98c1f073e19fb57aa9de1fc3b6f8e77eeccfaf1c9f950eaeb94997d"
   }
  }
 },
 "nbformat": 4,
 "nbformat_minor": 2
}
